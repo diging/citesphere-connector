{
 "cells": [
  {
   "cell_type": "code",
   "execution_count": 1,
   "id": "6f275807",
   "metadata": {},
   "outputs": [],
   "source": [
    "import os\n",
    "import csv\n",
    "import math\n",
    "import random\n",
    "import requests\n",
    "from CitesphereConnectorTest import *\n",
    "from CitesphereConnector import CitesphereConnector"
   ]
  },
  {
   "cell_type": "code",
   "execution_count": 2,
   "id": "2c0597b1",
   "metadata": {},
   "outputs": [],
   "source": [
    "auth_object = authObject()\n",
    "auth_object.authType  = 'oauth'\n",
    "auth_object.access_token=\"b7f4880b-7e33-4eca-b5a5-29c73adce87a\"\n",
    "connector = CitesphereConnector(\"https://diging-dev.asu.edu/citesphere-review/api\", auth_object)\n",
    "groups=connector.get_groups()"
   ]
  },
  {
   "cell_type": "code",
   "execution_count": 3,
   "id": "37167759",
   "metadata": {},
   "outputs": [],
   "source": [
    "def downloadFile(file_id, citesphere_token):\n",
    "    giles_url = f\"https://diging.asu.edu/geco-giles-staging/api/v2/resources/files/{file_id}/content\"\n",
    "    folder_path = \"citesphere-connector\"\n",
    "    os.makedirs(folder_path, exist_ok=True)\n",
    "    filename = os.path.join(folder_path, f\"{file_id}.pdf\")\n",
    "    headers = {\n",
    "        \"Authorization\": f\"Bearer {citesphere_token}\",\n",
    "        \"Content-Type\": \"application/pdf;charset=UTF-8\"\n",
    "    }\n",
    "    response = requests.get(giles_url, headers=headers)\n",
    "    if response.status_code == 200:\n",
    "        with open(filename, \"wb\") as file:\n",
    "            file.write(response.content)\n",
    "        return filename  \n",
    "    else:\n",
    "        return None  \n",
    "\n",
    "def addToCSV(itm:list,csv_dict:dict):\n",
    "    for value in itm[\"items\"]:\n",
    "        if value[\"key\"] in csv_dict:\n",
    "            continue\n",
    "        value[\"path\"] = \"\"\n",
    "        if value[\"gilesUploads\"]:\n",
    "            giles_id = value[\"gilesUploads\"][0][\"uploadedFile\"][\"id\"]\n",
    "            if giles_id != \"\":\n",
    "                value[\"path\"] = downloadFile(giles_id, auth_object.access_token)\n",
    "        csv_dict[value[\"key\"]] = value"
   ]
  },
  {
   "cell_type": "code",
   "execution_count": 11,
   "id": "229c7e47",
   "metadata": {
    "scrolled": true
   },
   "outputs": [
    {
     "name": "stdout",
     "output_type": "stream",
     "text": [
      "PDF downloaded to: citesphere-connector/FILEQL8sKmrswS7p.pdf\n",
      "PDF downloaded to: citesphere-connector/FILENf3i3D2v2XkG.pdf\n",
      "PDF downloaded to: citesphere-connector/FILEcpf2PgsbX0YR.pdf\n",
      "PDF downloaded to: citesphere-connector/FILEwUpCCo2Y5Tmx.pdf\n",
      "Authentication failed with status code 500\n",
      "FILEcHWoIjAxJSlV\n",
      "PDF downloaded to: citesphere-connector/FILE3u01O8ugYrge.pdf\n",
      "PDF downloaded to: citesphere-connector/FILESSuu8mSuZRdM.pdf\n",
      "Authentication failed with status code 500\n",
      "FILEfItViY7iUgLM\n"
     ]
    }
   ],
   "source": [
    "csv_dict={}\n",
    "for group in groups:\n",
    "    groupID = group[\"id\"]\n",
    "    collections = connector.get_collections(groupID)\n",
    "    for x in collections[\"collections\"]:\n",
    "        numPages = math.ceil(x[\"numberOfItems\"] / 50)\n",
    "        if numPages == 0:\n",
    "            continue\n",
    "\n",
    "        if numPages == 1:\n",
    "            itm = connector.get_collection_items_pg(groupID, x[\"key\"], 1)\n",
    "            addToCSV(itm,csv_dict)\n",
    "        else:\n",
    "            for i in range(numPages):\n",
    "                itm = connector.get_collection_items_pg(groupID, x[\"key\"], i + 1)\n",
    "                addToCSV(itm,csv_dict)"
   ]
  },
  {
   "cell_type": "code",
   "execution_count": 18,
   "id": "d42eaa42",
   "metadata": {},
   "outputs": [],
   "source": [
    "with open('citesphereCSV.csv', 'w', newline='') as file:\n",
    "    writer = csv.writer(file)\n",
    "    key, val = random.choice(list(csv_dict.items()))\n",
    "    fields = val.keys()\n",
    "    csv_items = list(csv_dict.values())\n",
    "    writer.writerow(fields)\n",
    "    for i in range(len(csv_items)):\n",
    "        writer.writerow(list(csv_items[i].values()))"
   ]
  }
 ],
 "metadata": {
  "kernelspec": {
   "display_name": "Python 3 (ipykernel)",
   "language": "python",
   "name": "python3"
  },
  "language_info": {
   "codemirror_mode": {
    "name": "ipython",
    "version": 3
   },
   "file_extension": ".py",
   "mimetype": "text/x-python",
   "name": "python",
   "nbconvert_exporter": "python",
   "pygments_lexer": "ipython3",
   "version": "3.9.17"
  }
 },
 "nbformat": 4,
 "nbformat_minor": 5
}
