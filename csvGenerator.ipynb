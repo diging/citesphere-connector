{
 "cells": [
  {
   "cell_type": "code",
   "execution_count": 38,
   "id": "6f275807",
   "metadata": {},
   "outputs": [],
   "source": [
    "import os\n",
    "import csv\n",
    "import math\n",
    "import random\n",
    "import requests\n",
    "from CitesphereConnectorTest import *\n",
    "from CitesphereConnector import CitesphereConnector"
   ]
  },
  {
   "cell_type": "code",
   "execution_count": 39,
   "id": "2c0597b1",
   "metadata": {},
   "outputs": [],
   "source": [
    "auth_object = authObject()\n",
    "auth_object.authType  = 'oauth'\n",
    "auth_object.access_token=\"authentication-key\"\n",
    "connector = CitesphereConnector(\"https://diging-dev.asu.edu/citesphere-review/api\", auth_object)\n",
    "groups=connector.get_groups()\n",
    "#default max number of items displayed on a collection items page \n",
    "max_size=50 "
   ]
  },
  {
   "cell_type": "code",
   "execution_count": 56,
   "id": "37167759",
   "metadata": {},
   "outputs": [],
   "source": [
    "#download files from the collection items\n",
    "def download_file(ids:set, citesphere_token:str,):\n",
    "    folder_path = \"citesphere-connector\"\n",
    "    path_list = []\n",
    "    for (file_id, file_name) in list(ids):\n",
    "        giles_url = f\"https://diging.asu.edu/geco-giles-staging/api/v2/resources/files/{file_id}/content\"\n",
    "        os.makedirs(folder_path, exist_ok=True)\n",
    "        filename = os.path.join(folder_path, f\"{file_name}\")\n",
    "        path_list.append(filename)\n",
    "        headers = {\n",
    "            \"Authorization\": f\"Bearer {citesphere_token}\",\n",
    "            \"Content-Type\": \"application/pdf;charset=UTF-8\"\n",
    "            }\n",
    "        response = requests.get(giles_url, headers=headers)\n",
    "        if response.status_code == 200:\n",
    "            with open(filename, \"wb\") as file:\n",
    "                file.write(response.content)\n",
    "    return path_list  \n",
    "\n",
    "#Returns the set of tuples containing, file_ids and file_name for downloading\n",
    "def get_set(items_list:list):\n",
    "    \n",
    "    ids=set()\n",
    "    for values in items_list:\n",
    "\n",
    "        #getting the file ids in uploadedFile, extractedText, pages, image, text, ocr, additionalFiles\n",
    "        ids.add((values[\"uploadedFile\"][\"id\"],values[\"uploadedFile\"][\"filename\"]))\n",
    "        if values[\"extractedText\"] and values[\"extractedText\"]!= \"None\":\n",
    "            ids.add((values[\"extractedText\"][\"id\"],values[\"extractedText\"][\"filename\"]))\n",
    "        if values[\"pages\"] and values[\"pages\"] != \"None\":\n",
    "            for value in values[\"pages\"]:\n",
    "                ids.add((value[\"image\"][\"id\"],value[\"image\"][\"filename\"]))\n",
    "                ids.add((value[\"text\"][\"id\"],value[\"text\"][\"filename\"]))\n",
    "                ids.add((value[\"ocr\"][\"id\"],value[\"ocr\"][\"filename\"]))\n",
    "                for file in value[\"additionalFiles\"]:\n",
    "                    ids.add((file[\"id\"],file[\"filename\"]))\n",
    "    return ids\n",
    "    \n",
    "# Add the item to csv_dict that contains all the collection items(with metadata and downloaded file path)\n",
    "def add_to_csv(items:list,csv_dict:dict):\n",
    "    for item in items[\"items\"]:\n",
    "        if item[\"key\"] in csv_dict:\n",
    "            continue\n",
    "        item[\"path\"] = \"\"\n",
    "        if item[\"gilesUploads\"]:\n",
    "            giles_ids = get_set(item[\"gilesUploads\"])\n",
    "            if giles_ids:\n",
    "                item[\"path\"] = download_file(giles_ids, auth_object.access_token)\n",
    "        csv_dict[item[\"key\"]] = item"
   ]
  },
  {
   "cell_type": "code",
   "execution_count": 57,
   "id": "229c7e47",
   "metadata": {
    "scrolled": true
   },
   "outputs": [
    {
     "name": "stdout",
     "output_type": "stream",
     "text": [
      "500 FILEcHWoIjAxJSlV\n",
      "500 FILEfItViY7iUgLM\n"
     ]
    }
   ],
   "source": [
    "#Contains the entries for the CSV file (collection items from each group)\n",
    "csv_dict={}\n",
    "for group in groups:\n",
    "    group_id = group[\"id\"]\n",
    "    collections = connector.get_collections(group_id)\n",
    "    for collection in collections[\"collections\"]:\n",
    "        #A maximum of 50 items are displayed on a collections item page\n",
    "        num_pages = math.ceil(collection[\"numberOfItems\"] / max_size)\n",
    "        #if there is no item in that collection continue\n",
    "        if num_pages == 0:\n",
    "            continue\n",
    "\n",
    "        if num_pages == 1:\n",
    "            items = connector.get_collection_items_pg(group_id, collection[\"key\"], 1)\n",
    "            add_to_csv(items,csv_dict)\n",
    "        else:\n",
    "            #if there are more than 1 page in the collection then iterarte over all the pages\n",
    "            for page in range(num_pages):\n",
    "                items = connector.get_collection_items_pg(group_id, collection[\"key\"], page + 1)\n",
    "                add_to_csv(items,csv_dict)"
   ]
  },
  {
   "cell_type": "code",
   "execution_count": 58,
   "id": "d42eaa42",
   "metadata": {},
   "outputs": [],
   "source": [
    "#Create the CSV file with all the metadata and file path of the downloaded files.\n",
    "with open('citesphereCSV.csv', 'w', newline='') as file:\n",
    "    writer = csv.writer(file)\n",
    "    key, val = random.choice(list(csv_dict.items()))\n",
    "    fields = val.keys()\n",
    "    csv_items = list(csv_dict.values())\n",
    "    writer.writerow(fields)\n",
    "    for i in range(len(csv_items)):\n",
    "        writer.writerow(list(csv_items[i].values()))"
   ]
  }
 ],
 "metadata": {
  "kernelspec": {
   "display_name": "Python 3 (ipykernel)",
   "language": "python",
   "name": "python3"
  },
  "language_info": {
   "codemirror_mode": {
    "name": "ipython",
    "version": 3
   },
   "file_extension": ".py",
   "mimetype": "text/x-python",
   "name": "python",
   "nbconvert_exporter": "python",
   "pygments_lexer": "ipython3",
   "version": "3.9.17"
  }
 },
 "nbformat": 4,
 "nbformat_minor": 5
}
