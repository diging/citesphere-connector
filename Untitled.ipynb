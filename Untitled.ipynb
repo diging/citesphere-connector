{
 "cells": [
  {
   "cell_type": "code",
   "execution_count": 1,
   "id": "31f1cec1",
   "metadata": {},
   "outputs": [
    {
     "name": "stderr",
     "output_type": "stream",
     "text": [
      "E\n",
      "======================================================================\n",
      "ERROR: /Users/ajayyadav/Library/Jupyter/runtime/kernel-8e0fba41-7271-404c-bd5b-7ad726496928 (unittest.loader._FailedTest)\n",
      "----------------------------------------------------------------------\n",
      "AttributeError: module '__main__' has no attribute '/Users/ajayyadav/Library/Jupyter/runtime/kernel-8e0fba41-7271-404c-bd5b-7ad726496928'\n",
      "\n",
      "----------------------------------------------------------------------\n",
      "Ran 1 test in 0.001s\n",
      "\n",
      "FAILED (errors=1)\n"
     ]
    },
    {
     "ename": "SystemExit",
     "evalue": "True",
     "output_type": "error",
     "traceback": [
      "An exception has occurred, use %tb to see the full traceback.\n",
      "\u001b[0;31mSystemExit\u001b[0m\u001b[0;31m:\u001b[0m True\n"
     ]
    },
    {
     "name": "stderr",
     "output_type": "stream",
     "text": [
      "/Users/ajayyadav/opt/anaconda3/lib/python3.9/site-packages/IPython/core/interactiveshell.py:3513: UserWarning: To exit: use 'exit', 'quit', or Ctrl-D.\n",
      "  warn(\"To exit: use 'exit', 'quit', or Ctrl-D.\", stacklevel=1)\n"
     ]
    }
   ],
   "source": [
    "import unittest\n",
    "from unittest.mock import Mock, patch, MagicMock\n",
    "from CitesphereConnector import CitesphereConnector\n",
    "from http import HTTPStatus\n",
    "\n",
    "\n",
    "class authObject:\n",
    "    def __init__(self, authType=None, headers=None, username=None, password=None, access_token=None):\n",
    "        self.authType = authType\n",
    "        self.headers = headers\n",
    "        self.username = username\n",
    "        self.password = password\n",
    "        self.access_token = access_token\n",
    "\n",
    "\n",
    "class EmptyObject:\n",
    "    pass\n",
    "\n",
    "\n",
    "class CitesphereConnectorTest(unittest.TestCase):\n",
    "    def test_validate_method(self):\n",
    "        auth_object = authObject()\n",
    "        with self.assertRaises(Exception):\n",
    "            CitesphereConnector(\"example.com\", auth_object)\n",
    "        pass\n",
    "\n",
    "    def test_validate_method_attribute_error(self):\n",
    "        auth_object = EmptyObject()\n",
    "        with self.assertRaises(AttributeError):\n",
    "            CitesphereConnector(\"example.com\", auth_object)\n",
    "        pass\n",
    "\n",
    "    @patch('CitesphereConnector.CitesphereConnector.get_groups')\n",
    "    def test_api_called(self, mock_get_groups):\n",
    "        auth_object = authObject()\n",
    "        auth_object.authType = 'oauth'\n",
    "        mock_get_groups.return_value = Mock()\n",
    "        mock_get_groups.return_value.json.return_value = [{'name': \"vogon\", 'id': 1}]\n",
    "        connector = CitesphereConnector(\"example.com\", auth_object)\n",
    "        print(connector.get_groups())\n",
    "        self.assertEqual(connector.get_groups()[0]['id'], 1)\n",
    "        pass\n",
    "\n",
    "\n",
    "if __name__ == '__main__':\n",
    "    unittest.main()"
   ]
  },
  {
   "cell_type": "code",
   "execution_count": null,
   "id": "236ca54a",
   "metadata": {},
   "outputs": [],
   "source": []
  }
 ],
 "metadata": {
  "kernelspec": {
   "display_name": "Python 3 (ipykernel)",
   "language": "python",
   "name": "python3"
  },
  "language_info": {
   "codemirror_mode": {
    "name": "ipython",
    "version": 3
   },
   "file_extension": ".py",
   "mimetype": "text/x-python",
   "name": "python",
   "nbconvert_exporter": "python",
   "pygments_lexer": "ipython3",
   "version": "3.9.17"
  }
 },
 "nbformat": 4,
 "nbformat_minor": 5
}
